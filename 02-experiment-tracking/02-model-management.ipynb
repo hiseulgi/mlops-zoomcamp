{
 "cells": [
  {
   "cell_type": "markdown",
   "id": "7432851d",
   "metadata": {},
   "source": [
    "## Setup"
   ]
  },
  {
   "cell_type": "code",
   "execution_count": 1,
   "id": "8b135c2b",
   "metadata": {},
   "outputs": [],
   "source": [
    "import pandas as pd\n",
    "import pickle\n",
    "import seaborn as sns\n",
    "import matplotlib.pyplot as plt\n",
    "\n",
    "from sklearn.feature_extraction import DictVectorizer\n",
    "from sklearn.linear_model import LinearRegression, Lasso, Ridge\n",
    "\n",
    "from sklearn.metrics import mean_squared_error\n",
    "\n",
    "import warnings\n",
    "warnings.filterwarnings(\"ignore\")"
   ]
  },
  {
   "cell_type": "code",
   "execution_count": 2,
   "id": "82e82d62",
   "metadata": {},
   "outputs": [
    {
     "name": "stdout",
     "output_type": "stream",
     "text": [
      "env: MLFLOW_TRACKING_URI=http://localhost:5000\n",
      "env: MLFLOW_S3_ENDPOINT_URL=http://localhost:9000\n",
      "env: AWS_ACCESS_KEY_ID=2vSrPs21nZYaUQvovgRL\n",
      "env: AWS_SECRET_ACCESS_KEY=yCqF29KU1qbykEnsceWMDRNvPelgGAVBmyD6PeU5\n"
     ]
    }
   ],
   "source": [
    "%env MLFLOW_TRACKING_URI=http://localhost:5000\n",
    "%env MLFLOW_S3_ENDPOINT_URL=http://localhost:9000\n",
    "%env AWS_ACCESS_KEY_ID=2vSrPs21nZYaUQvovgRL\n",
    "%env AWS_SECRET_ACCESS_KEY=yCqF29KU1qbykEnsceWMDRNvPelgGAVBmyD6PeU5"
   ]
  },
  {
   "cell_type": "code",
   "execution_count": 3,
   "id": "ced3652d",
   "metadata": {},
   "outputs": [
    {
     "data": {
      "text/plain": [
       "<Experiment: artifact_location='s3://mlflow/1', creation_time=1700794101778, experiment_id='1', last_update_time=1700794101778, lifecycle_stage='active', name='nyc-taxi', tags={}>"
      ]
     },
     "execution_count": 3,
     "metadata": {},
     "output_type": "execute_result"
    }
   ],
   "source": [
    "import os\n",
    "import mlflow\n",
    "\n",
    "assert \"MLFLOW_TRACKING_URI\" in os.environ\n",
    "assert \"MLFLOW_S3_ENDPOINT_URL\" in os.environ\n",
    "assert \"AWS_ACCESS_KEY_ID\" in os.environ\n",
    "assert \"AWS_SECRET_ACCESS_KEY\" in os.environ\n",
    "\n",
    "# mlflow.set_tracking_uri(\"http://localhost:5000/\")\n",
    "mlflow.set_experiment(\"nyc-taxi\")"
   ]
  },
  {
   "cell_type": "markdown",
   "id": "fb027a47",
   "metadata": {},
   "source": [
    "## Data Preparation"
   ]
  },
  {
   "cell_type": "code",
   "execution_count": 4,
   "id": "f9e6479e",
   "metadata": {},
   "outputs": [],
   "source": [
    "def read_dataframe(filename):\n",
    "    if filename.endswith('.csv'):\n",
    "        df = pd.read_csv(filename)\n",
    "\n",
    "        df.lpep_dropoff_datetime = pd.to_datetime(df.lpep_dropoff_datetime)\n",
    "        df.lpep_pickup_datetime = pd.to_datetime(df.lpep_pickup_datetime)\n",
    "    elif filename.endswith('.parquet'):\n",
    "        df = pd.read_parquet(filename)\n",
    "\n",
    "    df['duration'] = df.lpep_dropoff_datetime - df.lpep_pickup_datetime\n",
    "    df.duration = df.duration.apply(lambda td: td.total_seconds() / 60)\n",
    "\n",
    "    df = df[(df.duration >= 1) & (df.duration <= 60)]\n",
    "\n",
    "    categorical = ['PULocationID', 'DOLocationID']\n",
    "    df[categorical] = df[categorical].astype(str)\n",
    "    \n",
    "    return df"
   ]
  },
  {
   "cell_type": "code",
   "execution_count": 5,
   "id": "8029eba0",
   "metadata": {},
   "outputs": [
    {
     "data": {
      "text/plain": [
       "(73908, 61921)"
      ]
     },
     "execution_count": 5,
     "metadata": {},
     "output_type": "execute_result"
    }
   ],
   "source": [
    "train_data_path = \"./data/green_tripdata_2021-01.parquet\"\n",
    "val_data_path = \"./data/green_tripdata_2021-02.parquet\"\n",
    "\n",
    "df_train = read_dataframe(train_data_path)\n",
    "df_val = read_dataframe(val_data_path)\n",
    "len(df_train), len(df_val)"
   ]
  },
  {
   "cell_type": "code",
   "execution_count": 6,
   "id": "951d51ef",
   "metadata": {},
   "outputs": [],
   "source": [
    "df_train['PU_DO'] = df_train['PULocationID'] + '_' + df_train['DOLocationID']\n",
    "df_val['PU_DO'] = df_val['PULocationID'] + '_' + df_val['DOLocationID']"
   ]
  },
  {
   "cell_type": "code",
   "execution_count": 7,
   "id": "c5cbfc25",
   "metadata": {},
   "outputs": [],
   "source": [
    "categorical = ['PU_DO']\n",
    "numerical = ['trip_distance']\n",
    "\n",
    "dv = DictVectorizer()\n",
    "\n",
    "train_dicts = df_train[categorical + numerical].to_dict(orient='records')\n",
    "X_train = dv.fit_transform(train_dicts)\n",
    "\n",
    "val_dicts = df_val[categorical + numerical].to_dict(orient='records')\n",
    "X_val = dv.transform(val_dicts)"
   ]
  },
  {
   "cell_type": "code",
   "execution_count": 8,
   "id": "1e9fb68b",
   "metadata": {},
   "outputs": [],
   "source": [
    "target = 'duration'\n",
    "y_train = df_train[target].values\n",
    "y_val = df_val[target].values"
   ]
  },
  {
   "cell_type": "markdown",
   "id": "7a500149",
   "metadata": {},
   "source": [
    "## Model Training"
   ]
  },
  {
   "cell_type": "code",
   "execution_count": 9,
   "id": "8c6902bc",
   "metadata": {},
   "outputs": [],
   "source": [
    "import xgboost as xgb\n",
    "\n",
    "train = xgb.DMatrix(X_train, label=y_train)\n",
    "valid = xgb.DMatrix(X_val, label=y_val)"
   ]
  },
  {
   "cell_type": "code",
   "execution_count": 10,
   "id": "429e2394",
   "metadata": {},
   "outputs": [
    {
     "name": "stdout",
     "output_type": "stream",
     "text": [
      "[0]\tvalidation-rmse:10.26015\n",
      "[1]\tvalidation-rmse:8.94980\n",
      "[2]\tvalidation-rmse:8.10100\n",
      "[3]\tvalidation-rmse:7.56022\n",
      "[4]\tvalidation-rmse:7.21732\n",
      "[5]\tvalidation-rmse:7.00285\n",
      "[6]\tvalidation-rmse:6.86549\n",
      "[7]\tvalidation-rmse:6.77423\n",
      "[8]\tvalidation-rmse:6.71627\n",
      "[9]\tvalidation-rmse:6.67279\n",
      "[10]\tvalidation-rmse:6.64493\n",
      "[11]\tvalidation-rmse:6.62168\n",
      "[12]\tvalidation-rmse:6.60743\n",
      "[13]\tvalidation-rmse:6.59441\n",
      "[14]\tvalidation-rmse:6.58689\n",
      "[15]\tvalidation-rmse:6.58038\n",
      "[16]\tvalidation-rmse:6.57834\n",
      "[17]\tvalidation-rmse:6.57420\n",
      "[18]\tvalidation-rmse:6.57302\n",
      "[19]\tvalidation-rmse:6.57114\n"
     ]
    }
   ],
   "source": [
    "with mlflow.start_run():\n",
    "    best_params = {\n",
    "        \"learning_rate\": 0.2526805505341685,\n",
    "        \"max_depth\": 21,\n",
    "        \"min_child_weight\": 1.4699844585464745,\n",
    "        \"objective\": \"reg:linear\",\n",
    "        \"reg_alpha\": 0.03181433933064131,\n",
    "        \"reg_lambda\": 0.0050476303572755754,\n",
    "        \"seed\": 42,\n",
    "    }\n",
    "\n",
    "    # log hyperparams\n",
    "    mlflow.log_params(best_params)\n",
    "\n",
    "    # train model\n",
    "    model = xgb.train(\n",
    "        params=best_params,\n",
    "        dtrain=train,\n",
    "        num_boost_round=20,\n",
    "        evals=[(valid, \"validation\")],\n",
    "        early_stopping_rounds=25,\n",
    "    )\n",
    "\n",
    "    # evaluate model\n",
    "    y_pred = model.predict(valid)\n",
    "    rmse = mean_squared_error(y_val, y_pred, squared=False)\n",
    "    mlflow.log_metric(\"validation-rmse\", rmse)\n",
    "\n",
    "    # log preprocessor artifact\n",
    "    preprocessor_path = \"./models/preprocessor.bin\"\n",
    "    with open(preprocessor_path, \"wb\") as f_out:\n",
    "        pickle.dump(dv, f_out)\n",
    "    mlflow.log_artifact(preprocessor_path, artifact_path=\"preprocessor\")\n",
    "\n",
    "    # log model artifact\n",
    "    ## cara 1: langsung menggunakan method bawaan (tergantung pada model/library-nya)\n",
    "    ## dalam hal ini karena pake xgboost ya pake itu juga\n",
    "    mlflow.xgboost.log_model(model, artifact_path=\"models\")\n",
    "\n",
    "    ## cara 2: sama seperti pada log preprocessor\n",
    "    # model_path = \"./models/xgboost.bin\"\n",
    "    # with open(model_path, \"wb\") as f_out:\n",
    "    #     pickle.dump(dv, f_out)\n",
    "    # mlflow.log_artifact(model_path, artifact_path=\"models\")"
   ]
  },
  {
   "cell_type": "markdown",
   "id": "9c1c94cc",
   "metadata": {},
   "source": [
    "## Using Model Artifact"
   ]
  },
  {
   "cell_type": "code",
   "execution_count": 11,
   "id": "21a72622",
   "metadata": {},
   "outputs": [
    {
     "data": {
      "application/vnd.jupyter.widget-view+json": {
       "model_id": "0be6950516bd4cd19f2196f929fdacce",
       "version_major": 2,
       "version_minor": 0
      },
      "text/plain": [
       "Downloading artifacts:   0%|          | 0/5 [00:00<?, ?it/s]"
      ]
     },
     "metadata": {},
     "output_type": "display_data"
    },
    {
     "data": {
      "text/plain": [
       "mlflow.pyfunc.loaded_model:\n",
       "  artifact_path: models\n",
       "  flavor: mlflow.xgboost\n",
       "  run_id: 9d249fc0e2a7422e8d587b6123e8c638"
      ]
     },
     "execution_count": 11,
     "metadata": {},
     "output_type": "execute_result"
    }
   ],
   "source": [
    "logged_model = \"runs:/9d249fc0e2a7422e8d587b6123e8c638/models\"\n",
    "\n",
    "# Load model as a PyFuncModel.\n",
    "loaded_model = mlflow.pyfunc.load_model(logged_model)\n",
    "loaded_model"
   ]
  },
  {
   "cell_type": "code",
   "execution_count": 12,
   "id": "d68073e5",
   "metadata": {},
   "outputs": [
    {
     "data": {
      "text/plain": [
       "array([16.294361 ,  7.2582555, 19.246721 , 24.319605 ,  9.923026 ,\n",
       "       17.105246 , 13.982095 ,  8.828904 ,  8.960282 , 18.456018 ],\n",
       "      dtype=float32)"
      ]
     },
     "execution_count": 12,
     "metadata": {},
     "output_type": "execute_result"
    }
   ],
   "source": [
    "loaded_model.predict(X_val[:10])"
   ]
  },
  {
   "cell_type": "code",
   "execution_count": 13,
   "id": "a662581b",
   "metadata": {},
   "outputs": [
    {
     "data": {
      "application/vnd.jupyter.widget-view+json": {
       "model_id": "e1055749f2044bf7bc63f9261e3f7a23",
       "version_major": 2,
       "version_minor": 0
      },
      "text/plain": [
       "Downloading artifacts:   0%|          | 0/5 [00:00<?, ?it/s]"
      ]
     },
     "metadata": {},
     "output_type": "display_data"
    },
    {
     "data": {
      "text/plain": [
       "<xgboost.core.Booster at 0x7f8f9841e4f0>"
      ]
     },
     "execution_count": 13,
     "metadata": {},
     "output_type": "execute_result"
    }
   ],
   "source": [
    "# load model as xgboost model\n",
    "xgboost_loaded_model = mlflow.xgboost.load_model(logged_model)\n",
    "xgboost_loaded_model"
   ]
  },
  {
   "cell_type": "code",
   "execution_count": 14,
   "id": "fe01805a",
   "metadata": {},
   "outputs": [
    {
     "data": {
      "text/plain": [
       "array([16.294361 ,  7.2582555, 19.246721 , 24.319605 ,  9.923026 ,\n",
       "       17.105246 , 13.982095 ,  8.828904 ,  8.960282 , 18.456018 ],\n",
       "      dtype=float32)"
      ]
     },
     "execution_count": 14,
     "metadata": {},
     "output_type": "execute_result"
    }
   ],
   "source": [
    "pred = xgboost_loaded_model.predict(valid)\n",
    "pred[:10]"
   ]
  },
  {
   "cell_type": "markdown",
   "id": "ec3b41bc",
   "metadata": {},
   "source": [
    "## What i learned\n",
    "\n",
    "- Konsep model management yang merupakan bagian dari MLOps yang berisi experiment tracking, model versioning, dan model deployment (lengkap lihat di slides)\n",
    "- Kenapa kita perlu? Mengurangi error prone, no versioning, dan no model lineage\n",
    "- Model atau file yang disimpan pada experiment run di MLflow disebut dengan artifact\n",
    "- Untuk menyimpan model sebagai artifact ada dua cara yaitu:\n",
    "  - Log model as an artifact: <br>\n",
    "  `mlflow.log_artifact(\"mymodel\", artifact_path=\"models/\")`\n",
    "  - Log model using the method `log_model` (tergantung support mlflow terhadap suatu library): <br> \n",
    "  `mlflow.<framework>.log_model(model, artifact_path=\"models/\")`\n",
    "- Begitu juga dengan cara menggunakan artifact terdapat dua cara yaitu:\n",
    "  - Load sebagai MLflow PyFuncModel\n",
    "  - Load sebagai model dari library/framework itu sendiri"
   ]
  }
 ],
 "metadata": {
  "kernelspec": {
   "display_name": "Python 3 (ipykernel)",
   "language": "python",
   "name": "python3"
  },
  "language_info": {
   "codemirror_mode": {
    "name": "ipython",
    "version": 3
   },
   "file_extension": ".py",
   "mimetype": "text/x-python",
   "name": "python",
   "nbconvert_exporter": "python",
   "pygments_lexer": "ipython3",
   "version": "3.9.18"
  }
 },
 "nbformat": 4,
 "nbformat_minor": 5
}
