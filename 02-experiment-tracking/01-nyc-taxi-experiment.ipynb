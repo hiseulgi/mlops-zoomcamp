{
 "cells": [
  {
   "cell_type": "markdown",
   "id": "144a1c40",
   "metadata": {},
   "source": [
    "# Experiment tracking with MLflow\n",
    "\n",
    "* Add parameter tuning to the notebook\n",
    "* Show how it looks in MLflow\n",
    "* Select the best one\n",
    "* Autolog\n",
    "\n",
    "Input:\n",
    "* Notebook from previous unit\n",
    "\n",
    "Output:\n",
    "* Updated notebook\n",
    "* More logging in MLflow"
   ]
  },
  {
   "cell_type": "markdown",
   "id": "7432851d",
   "metadata": {},
   "source": [
    "## Setup"
   ]
  },
  {
   "cell_type": "code",
   "execution_count": 1,
   "id": "8b135c2b",
   "metadata": {},
   "outputs": [],
   "source": [
    "import pandas as pd\n",
    "import pickle\n",
    "import seaborn as sns\n",
    "import matplotlib.pyplot as plt\n",
    "\n",
    "from sklearn.feature_extraction import DictVectorizer\n",
    "from sklearn.linear_model import LinearRegression, Lasso, Ridge\n",
    "\n",
    "from sklearn.metrics import mean_squared_error\n",
    "\n",
    "import warnings\n",
    "warnings.filterwarnings(\"ignore\")"
   ]
  },
  {
   "cell_type": "code",
   "execution_count": 2,
   "id": "1adbda7b",
   "metadata": {},
   "outputs": [
    {
     "name": "stdout",
     "output_type": "stream",
     "text": [
      "env: MLFLOW_TRACKING_URI=http://localhost:5000\n",
      "env: MLFLOW_S3_ENDPOINT_URL=http://localhost:9000\n",
      "env: AWS_ACCESS_KEY_ID=2vSrPs21nZYaUQvovgRL\n",
      "env: AWS_SECRET_ACCESS_KEY=yCqF29KU1qbykEnsceWMDRNvPelgGAVBmyD6PeU5\n"
     ]
    }
   ],
   "source": [
    "%env MLFLOW_TRACKING_URI=http://localhost:5000\n",
    "%env MLFLOW_S3_ENDPOINT_URL=http://localhost:9000\n",
    "%env AWS_ACCESS_KEY_ID=2vSrPs21nZYaUQvovgRL\n",
    "%env AWS_SECRET_ACCESS_KEY=yCqF29KU1qbykEnsceWMDRNvPelgGAVBmyD6PeU5"
   ]
  },
  {
   "cell_type": "code",
   "execution_count": 3,
   "id": "4f58d4d8",
   "metadata": {},
   "outputs": [
    {
     "data": {
      "text/plain": [
       "<Experiment: artifact_location='s3://mlflow/1', creation_time=1700794101778, experiment_id='1', last_update_time=1700794101778, lifecycle_stage='active', name='nyc-taxi', tags={}>"
      ]
     },
     "execution_count": 3,
     "metadata": {},
     "output_type": "execute_result"
    }
   ],
   "source": [
    "import os\n",
    "import mlflow\n",
    "\n",
    "assert \"MLFLOW_TRACKING_URI\" in os.environ\n",
    "assert \"MLFLOW_S3_ENDPOINT_URL\" in os.environ\n",
    "assert \"AWS_ACCESS_KEY_ID\" in os.environ\n",
    "assert \"AWS_SECRET_ACCESS_KEY\" in os.environ\n",
    "\n",
    "# mlflow.set_tracking_uri(\"http://localhost:5000/\")\n",
    "mlflow.set_experiment(\"nyc-taxi\")"
   ]
  },
  {
   "cell_type": "markdown",
   "id": "fb027a47",
   "metadata": {},
   "source": [
    "## Data Preparation"
   ]
  },
  {
   "cell_type": "code",
   "execution_count": 4,
   "id": "f9e6479e",
   "metadata": {},
   "outputs": [],
   "source": [
    "def read_dataframe(filename):\n",
    "    if filename.endswith('.csv'):\n",
    "        df = pd.read_csv(filename)\n",
    "\n",
    "        df.lpep_dropoff_datetime = pd.to_datetime(df.lpep_dropoff_datetime)\n",
    "        df.lpep_pickup_datetime = pd.to_datetime(df.lpep_pickup_datetime)\n",
    "    elif filename.endswith('.parquet'):\n",
    "        df = pd.read_parquet(filename)\n",
    "\n",
    "    df['duration'] = df.lpep_dropoff_datetime - df.lpep_pickup_datetime\n",
    "    df.duration = df.duration.apply(lambda td: td.total_seconds() / 60)\n",
    "\n",
    "    df = df[(df.duration >= 1) & (df.duration <= 60)]\n",
    "\n",
    "    categorical = ['PULocationID', 'DOLocationID']\n",
    "    df[categorical] = df[categorical].astype(str)\n",
    "    \n",
    "    return df"
   ]
  },
  {
   "cell_type": "code",
   "execution_count": 5,
   "id": "8029eba0",
   "metadata": {},
   "outputs": [
    {
     "data": {
      "text/plain": [
       "(73908, 61921)"
      ]
     },
     "execution_count": 5,
     "metadata": {},
     "output_type": "execute_result"
    }
   ],
   "source": [
    "train_data_path = \"./data/green_tripdata_2021-01.parquet\"\n",
    "val_data_path = \"./data/green_tripdata_2021-02.parquet\"\n",
    "\n",
    "df_train = read_dataframe(train_data_path)\n",
    "df_val = read_dataframe(val_data_path)\n",
    "len(df_train), len(df_val)"
   ]
  },
  {
   "cell_type": "code",
   "execution_count": 6,
   "id": "951d51ef",
   "metadata": {},
   "outputs": [],
   "source": [
    "df_train['PU_DO'] = df_train['PULocationID'] + '_' + df_train['DOLocationID']\n",
    "df_val['PU_DO'] = df_val['PULocationID'] + '_' + df_val['DOLocationID']"
   ]
  },
  {
   "cell_type": "code",
   "execution_count": 7,
   "id": "c5cbfc25",
   "metadata": {},
   "outputs": [],
   "source": [
    "categorical = ['PU_DO']\n",
    "numerical = ['trip_distance']\n",
    "\n",
    "dv = DictVectorizer()\n",
    "\n",
    "train_dicts = df_train[categorical + numerical].to_dict(orient='records')\n",
    "X_train = dv.fit_transform(train_dicts)\n",
    "\n",
    "val_dicts = df_val[categorical + numerical].to_dict(orient='records')\n",
    "X_val = dv.transform(val_dicts)"
   ]
  },
  {
   "cell_type": "code",
   "execution_count": 8,
   "id": "1e9fb68b",
   "metadata": {},
   "outputs": [],
   "source": [
    "target = 'duration'\n",
    "y_train = df_train[target].values\n",
    "y_val = df_val[target].values"
   ]
  },
  {
   "cell_type": "markdown",
   "id": "7a500149",
   "metadata": {},
   "source": [
    "## Model Training"
   ]
  },
  {
   "cell_type": "code",
   "execution_count": 9,
   "id": "ce857ce6",
   "metadata": {},
   "outputs": [],
   "source": [
    "import xgboost as xgb\n",
    "\n",
    "from hyperopt import fmin, tpe, hp, STATUS_OK, Trials\n",
    "from hyperopt.pyll import scope"
   ]
  },
  {
   "cell_type": "code",
   "execution_count": 10,
   "id": "4d07637a",
   "metadata": {},
   "outputs": [],
   "source": [
    "train = xgb.DMatrix(X_train, label=y_train)\n",
    "valid = xgb.DMatrix(X_val, label=y_val)"
   ]
  },
  {
   "cell_type": "code",
   "execution_count": null,
   "id": "8ce31621",
   "metadata": {},
   "outputs": [],
   "source": [
    "def objective(params):\n",
    "    with mlflow.start_run():\n",
    "        mlflow.set_tag(\"model\", \"xgboost\")\n",
    "        mlflow.set_tag(\"developer\", \"sugab\")\n",
    "\n",
    "        mlflow.log_params(params)\n",
    "\n",
    "        model = xgb.train(\n",
    "            params=params,\n",
    "            dtrain=train,\n",
    "            num_boost_round=500,\n",
    "            evals=[(valid, \"validation\")],\n",
    "            early_stopping_rounds=25\n",
    "        )\n",
    "\n",
    "        y_pred = model.predict(valid)\n",
    "        rmse = mean_squared_error(y_val, y_pred, squared=False)\n",
    "        mlflow.log_metric(\"rmse\", rmse)\n",
    "\n",
    "    return {\"loss\": rmse, \"status\": STATUS_OK}"
   ]
  },
  {
   "cell_type": "code",
   "execution_count": null,
   "id": "8dea8e54",
   "metadata": {},
   "outputs": [],
   "source": [
    "search_space = {\n",
    "    \"max_depth\": scope.int(hp.quniform(\"max_depth\", 4, 100, 1)),\n",
    "    \"learning_rate\": hp.loguniform(\"learning_rate\", -3, 0),\n",
    "    \"reg_alpha\": hp.loguniform(\"reg_alpha\", -5, -1),\n",
    "    \"reg_lambda\": hp.loguniform(\"reg_lambda\", -6, -1),\n",
    "    \"min_child_weight\": hp.loguniform(\"min_child_weight\", -1, 3),\n",
    "    \"objective\": \"reg:linear\",\n",
    "    # \"device\": \"cuda\",\n",
    "    \"seed\": 42,\n",
    "}\n",
    "\n",
    "best_result = fmin(\n",
    "    fn=objective,\n",
    "    space=search_space,\n",
    "    algo=tpe.suggest,\n",
    "    max_evals=25,\n",
    "    trials=Trials()\n",
    ")"
   ]
  },
  {
   "cell_type": "markdown",
   "id": "5c9c7491",
   "metadata": {},
   "source": [
    "### Fit best params to the model"
   ]
  },
  {
   "cell_type": "code",
   "execution_count": 11,
   "id": "8f2ef442",
   "metadata": {},
   "outputs": [
    {
     "name": "stderr",
     "output_type": "stream",
     "text": [
      "2023/11/24 16:51:35 WARNING mlflow.utils.autologging_utils: You are using an unsupported version of xgboost. If you encounter errors during autologging, try upgrading / downgrading xgboost to a supported version, or try upgrading MLflow.\n",
      "2023/11/24 16:51:35 INFO mlflow.utils.autologging_utils: Created MLflow autologging run with ID '92f667d0a3d34385b96d400bc7760682', which will track hyperparameters, performance metrics, model artifacts, and lineage information for the current xgboost workflow\n"
     ]
    },
    {
     "name": "stdout",
     "output_type": "stream",
     "text": [
      "[0]\tvalidation-rmse:10.26015\n",
      "[1]\tvalidation-rmse:8.94980\n",
      "[2]\tvalidation-rmse:8.10100\n",
      "[3]\tvalidation-rmse:7.56022\n",
      "[4]\tvalidation-rmse:7.21732\n",
      "[5]\tvalidation-rmse:7.00285\n",
      "[6]\tvalidation-rmse:6.86549\n",
      "[7]\tvalidation-rmse:6.77423\n",
      "[8]\tvalidation-rmse:6.71627\n",
      "[9]\tvalidation-rmse:6.67279\n",
      "[10]\tvalidation-rmse:6.64493\n",
      "[11]\tvalidation-rmse:6.62168\n",
      "[12]\tvalidation-rmse:6.60743\n",
      "[13]\tvalidation-rmse:6.59441\n",
      "[14]\tvalidation-rmse:6.58689\n",
      "[15]\tvalidation-rmse:6.58038\n",
      "[16]\tvalidation-rmse:6.57834\n",
      "[17]\tvalidation-rmse:6.57420\n",
      "[18]\tvalidation-rmse:6.57302\n",
      "[19]\tvalidation-rmse:6.57114\n"
     ]
    },
    {
     "name": "stderr",
     "output_type": "stream",
     "text": [
      "2023/11/24 16:52:29 WARNING mlflow.xgboost: Failed to infer model signature: could not sample data to infer model signature: please ensure that autologging is enabled before constructing the dataset.\n"
     ]
    }
   ],
   "source": [
    "best_params = {\n",
    "    \"learning_rate\": 0.2526805505341685,\n",
    "    \"max_depth\": 21,\n",
    "    \"min_child_weight\": 1.4699844585464745,\n",
    "    \"objective\": \"reg:linear\",\n",
    "    \"reg_alpha\": 0.03181433933064131,\n",
    "    \"reg_lambda\": 0.0050476303572755754,\n",
    "    \"seed\": 42,\n",
    "}\n",
    "\n",
    "mlflow.xgboost.autolog()\n",
    "\n",
    "best_model = xgb.train(\n",
    "    params=best_params,\n",
    "    dtrain=train,\n",
    "    num_boost_round=20,\n",
    "    evals=[(valid, \"validation\")],\n",
    "    early_stopping_rounds=25,\n",
    ")"
   ]
  },
  {
   "cell_type": "markdown",
   "id": "caa4ec76",
   "metadata": {},
   "source": [
    "## What i learned\n",
    "\n",
    "* Experiment tracking meggunakan MLflow, caranya dengan membuat scope with mlflow.start_run() kemudian masukan kode trainer di dalamnya\n",
    "* Implementasi dari experiment tracking ini adalah kita bisa menggunakannya sebagai logging ketika hyperparameter tuning, dalam hal ini menggunakan library `hyperopt`\n",
    "* Setelah menemukan hyperparameter terbaik, kita dapat melakukan trainingnya lagi pada model terbaru dengan hyperparameter tersebut\n",
    "* Selain itu, kita bisa melakukan logging secara otomatis berdasarkan library yang dipakai menggunakan autolog\n",
    "* Yang belum dibahas di notebook ini adalah **cara menyimpan model yang telah ditraining** (menyimpan artifact)\n",
    "\n",
    "## Reference\n",
    "\n",
    "* [MLOps Zoomcamp 2.3 - Experiment tracking with MLflow](https://www.youtube.com/watch?v=iaJz-T7VWec&list=PL3MmuxUbc_hIUISrluw_A7wDSmfOhErJK&index=11)"
   ]
  }
 ],
 "metadata": {
  "kernelspec": {
   "display_name": "Python 3 (ipykernel)",
   "language": "python",
   "name": "python3"
  },
  "language_info": {
   "codemirror_mode": {
    "name": "ipython",
    "version": 3
   },
   "file_extension": ".py",
   "mimetype": "text/x-python",
   "name": "python",
   "nbconvert_exporter": "python",
   "pygments_lexer": "ipython3",
   "version": "3.9.18"
  }
 },
 "nbformat": 4,
 "nbformat_minor": 5
}
